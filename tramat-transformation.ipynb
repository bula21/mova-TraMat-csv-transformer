{
 "cells": [
  {
   "cell_type": "code",
   "execution_count": 332,
   "id": "371043ab",
   "metadata": {},
   "outputs": [],
   "source": [
    "import pandas as pd\n",
    "import numpy as np\n",
    "import os"
   ]
  },
  {
   "cell_type": "code",
   "execution_count": 333,
   "outputs": [],
   "source": [
    "# specify path to csv file\n",
    "path_orders_csv = \".\\\\orders.csv\""
   ],
   "metadata": {
    "collapsed": false,
    "pycharm": {
     "name": "#%%\n"
    }
   }
  },
  {
   "cell_type": "code",
   "execution_count": 334,
   "outputs": [],
   "source": [
    "try:\n",
    "    f = open(path_orders_csv)\n",
    "    # Do something with the file\n",
    "except IOError:\n",
    "    print(\"Kann orders.csv nicht finden... Stelle sicher, dass sich orders.csv im gleichen Verzeichnis befindet.\")\n",
    "finally:\n",
    "    f.close()"
   ],
   "metadata": {
    "collapsed": false,
    "pycharm": {
     "name": "#%%\n"
    }
   }
  },
  {
   "cell_type": "code",
   "execution_count": 335,
   "id": "4288b569",
   "metadata": {},
   "outputs": [],
   "source": [
    "# Load csv file\n",
    "df_orders = pd.read_csv(path_orders_csv,dtype=str)"
   ]
  },
  {
   "cell_type": "code",
   "execution_count": 336,
   "id": "de8658e7",
   "metadata": {},
   "outputs": [
    {
     "data": {
      "text/plain": "       id   createdOn             modifiedBy  modifiedOn  \\\n0      29  2021-03-07         Vinzenz Zwicky  2022-02-28   \n1      30  2021-03-07         Vinzenz Zwicky  2022-02-28   \n2      31  2021-03-07         Vinzenz Zwicky  2022-02-28   \n3      32  2021-03-07         Vinzenz Zwicky  2022-02-28   \n4      33  2021-03-07         Vinzenz Zwicky  2022-02-28   \n..    ...         ...                    ...         ...   \n744  1061  2022-03-13      Floreana Longatti  2022-03-13   \n745  1062  2022-03-13      Floreana Longatti  2022-03-13   \n746  1063  2022-03-13      Floreana Longatti  2022-03-13   \n747  1064  2022-03-13  Ahathian Manikkapoody  2022-03-13   \n748  1065  2022-03-13  Ahathian Manikkapoody  2022-03-13   \n\n                                              remarks state shipper receiver  \\\n0                                                 NaN   new      36       37   \n1                                                 NaN   new      36       37   \n2                                                 NaN   new      36       37   \n3                                                 NaN   new      36       37   \n4                                                 NaN   new      36       37   \n..                                                ...   ...     ...      ...   \n744                                               NaN   new      31       40   \n745  interne Lieferungen aller Aussenfiliale Material   new      31       31   \n746                              Details folgen noch    new     352      152   \n747                                               NaN   new     353      354   \n748                                               NaN   new     354      353   \n\n    principal deliveryDate  ... pos_3_goods_height pos_3_goods_packingUnit  \\\n0          35   2022-07-21  ...                NaN                     NaN   \n1          35   2022-07-24  ...                NaN                     NaN   \n2          35   2022-07-25  ...                NaN                     NaN   \n3          35   2022-07-26  ...                NaN                     NaN   \n4          35   2022-07-27  ...                NaN                     NaN   \n..        ...          ...  ...                ...                     ...   \n744       355   2022-08-09  ...                NaN                     NaN   \n745       355   2022-07-23  ...                NaN                     NaN   \n746       352   2022-03-13  ...                NaN                     NaN   \n747       354   2022-07-19  ...                NaN                     NaN   \n748       354   2022-08-10  ...                NaN                     NaN   \n\n    pos_3_goods_marking pos_3_goods_quantity pos_3_goods_valueChf  \\\n0                   NaN                  NaN                  NaN   \n1                   NaN                  NaN                  NaN   \n2                   NaN                  NaN                  NaN   \n3                   NaN                  NaN                  NaN   \n4                   NaN                  NaN                  NaN   \n..                  ...                  ...                  ...   \n744                 NaN                  NaN                  NaN   \n745                 NaN                  NaN                  NaN   \n746                 NaN                  NaN                  NaN   \n747                 NaN                  NaN                  NaN   \n748                 NaN                  NaN                  NaN   \n\n    pos_3_goods_kommissionieren pos_3_goods_stapelbar pos_3_const_description  \\\n0                           NaN                   NaN                     NaN   \n1                           NaN                   NaN                     NaN   \n2                           NaN                   NaN                     NaN   \n3                           NaN                   NaN                     NaN   \n4                           NaN                   NaN                     NaN   \n..                          ...                   ...                     ...   \n744                         NaN                   NaN                     NaN   \n745                         NaN                   NaN                     NaN   \n746                         NaN                   NaN                     NaN   \n747                         NaN                   NaN                     NaN   \n748                         NaN                   NaN                     NaN   \n\n    pos_3_const_quantity pos_3_const_weight  \n0                    NaN                NaN  \n1                    NaN                NaN  \n2                    NaN                NaN  \n3                    NaN                NaN  \n4                    NaN                NaN  \n..                   ...                ...  \n744                  NaN                NaN  \n745                  NaN                NaN  \n746                  NaN                NaN  \n747                  NaN                NaN  \n748                  NaN                NaN  \n\n[749 rows x 97 columns]",
      "text/html": "<div>\n<style scoped>\n    .dataframe tbody tr th:only-of-type {\n        vertical-align: middle;\n    }\n\n    .dataframe tbody tr th {\n        vertical-align: top;\n    }\n\n    .dataframe thead th {\n        text-align: right;\n    }\n</style>\n<table border=\"1\" class=\"dataframe\">\n  <thead>\n    <tr style=\"text-align: right;\">\n      <th></th>\n      <th>id</th>\n      <th>createdOn</th>\n      <th>modifiedBy</th>\n      <th>modifiedOn</th>\n      <th>remarks</th>\n      <th>state</th>\n      <th>shipper</th>\n      <th>receiver</th>\n      <th>principal</th>\n      <th>deliveryDate</th>\n      <th>...</th>\n      <th>pos_3_goods_height</th>\n      <th>pos_3_goods_packingUnit</th>\n      <th>pos_3_goods_marking</th>\n      <th>pos_3_goods_quantity</th>\n      <th>pos_3_goods_valueChf</th>\n      <th>pos_3_goods_kommissionieren</th>\n      <th>pos_3_goods_stapelbar</th>\n      <th>pos_3_const_description</th>\n      <th>pos_3_const_quantity</th>\n      <th>pos_3_const_weight</th>\n    </tr>\n  </thead>\n  <tbody>\n    <tr>\n      <th>0</th>\n      <td>29</td>\n      <td>2021-03-07</td>\n      <td>Vinzenz Zwicky</td>\n      <td>2022-02-28</td>\n      <td>NaN</td>\n      <td>new</td>\n      <td>36</td>\n      <td>37</td>\n      <td>35</td>\n      <td>2022-07-21</td>\n      <td>...</td>\n      <td>NaN</td>\n      <td>NaN</td>\n      <td>NaN</td>\n      <td>NaN</td>\n      <td>NaN</td>\n      <td>NaN</td>\n      <td>NaN</td>\n      <td>NaN</td>\n      <td>NaN</td>\n      <td>NaN</td>\n    </tr>\n    <tr>\n      <th>1</th>\n      <td>30</td>\n      <td>2021-03-07</td>\n      <td>Vinzenz Zwicky</td>\n      <td>2022-02-28</td>\n      <td>NaN</td>\n      <td>new</td>\n      <td>36</td>\n      <td>37</td>\n      <td>35</td>\n      <td>2022-07-24</td>\n      <td>...</td>\n      <td>NaN</td>\n      <td>NaN</td>\n      <td>NaN</td>\n      <td>NaN</td>\n      <td>NaN</td>\n      <td>NaN</td>\n      <td>NaN</td>\n      <td>NaN</td>\n      <td>NaN</td>\n      <td>NaN</td>\n    </tr>\n    <tr>\n      <th>2</th>\n      <td>31</td>\n      <td>2021-03-07</td>\n      <td>Vinzenz Zwicky</td>\n      <td>2022-02-28</td>\n      <td>NaN</td>\n      <td>new</td>\n      <td>36</td>\n      <td>37</td>\n      <td>35</td>\n      <td>2022-07-25</td>\n      <td>...</td>\n      <td>NaN</td>\n      <td>NaN</td>\n      <td>NaN</td>\n      <td>NaN</td>\n      <td>NaN</td>\n      <td>NaN</td>\n      <td>NaN</td>\n      <td>NaN</td>\n      <td>NaN</td>\n      <td>NaN</td>\n    </tr>\n    <tr>\n      <th>3</th>\n      <td>32</td>\n      <td>2021-03-07</td>\n      <td>Vinzenz Zwicky</td>\n      <td>2022-02-28</td>\n      <td>NaN</td>\n      <td>new</td>\n      <td>36</td>\n      <td>37</td>\n      <td>35</td>\n      <td>2022-07-26</td>\n      <td>...</td>\n      <td>NaN</td>\n      <td>NaN</td>\n      <td>NaN</td>\n      <td>NaN</td>\n      <td>NaN</td>\n      <td>NaN</td>\n      <td>NaN</td>\n      <td>NaN</td>\n      <td>NaN</td>\n      <td>NaN</td>\n    </tr>\n    <tr>\n      <th>4</th>\n      <td>33</td>\n      <td>2021-03-07</td>\n      <td>Vinzenz Zwicky</td>\n      <td>2022-02-28</td>\n      <td>NaN</td>\n      <td>new</td>\n      <td>36</td>\n      <td>37</td>\n      <td>35</td>\n      <td>2022-07-27</td>\n      <td>...</td>\n      <td>NaN</td>\n      <td>NaN</td>\n      <td>NaN</td>\n      <td>NaN</td>\n      <td>NaN</td>\n      <td>NaN</td>\n      <td>NaN</td>\n      <td>NaN</td>\n      <td>NaN</td>\n      <td>NaN</td>\n    </tr>\n    <tr>\n      <th>...</th>\n      <td>...</td>\n      <td>...</td>\n      <td>...</td>\n      <td>...</td>\n      <td>...</td>\n      <td>...</td>\n      <td>...</td>\n      <td>...</td>\n      <td>...</td>\n      <td>...</td>\n      <td>...</td>\n      <td>...</td>\n      <td>...</td>\n      <td>...</td>\n      <td>...</td>\n      <td>...</td>\n      <td>...</td>\n      <td>...</td>\n      <td>...</td>\n      <td>...</td>\n      <td>...</td>\n    </tr>\n    <tr>\n      <th>744</th>\n      <td>1061</td>\n      <td>2022-03-13</td>\n      <td>Floreana Longatti</td>\n      <td>2022-03-13</td>\n      <td>NaN</td>\n      <td>new</td>\n      <td>31</td>\n      <td>40</td>\n      <td>355</td>\n      <td>2022-08-09</td>\n      <td>...</td>\n      <td>NaN</td>\n      <td>NaN</td>\n      <td>NaN</td>\n      <td>NaN</td>\n      <td>NaN</td>\n      <td>NaN</td>\n      <td>NaN</td>\n      <td>NaN</td>\n      <td>NaN</td>\n      <td>NaN</td>\n    </tr>\n    <tr>\n      <th>745</th>\n      <td>1062</td>\n      <td>2022-03-13</td>\n      <td>Floreana Longatti</td>\n      <td>2022-03-13</td>\n      <td>interne Lieferungen aller Aussenfiliale Material</td>\n      <td>new</td>\n      <td>31</td>\n      <td>31</td>\n      <td>355</td>\n      <td>2022-07-23</td>\n      <td>...</td>\n      <td>NaN</td>\n      <td>NaN</td>\n      <td>NaN</td>\n      <td>NaN</td>\n      <td>NaN</td>\n      <td>NaN</td>\n      <td>NaN</td>\n      <td>NaN</td>\n      <td>NaN</td>\n      <td>NaN</td>\n    </tr>\n    <tr>\n      <th>746</th>\n      <td>1063</td>\n      <td>2022-03-13</td>\n      <td>Floreana Longatti</td>\n      <td>2022-03-13</td>\n      <td>Details folgen noch</td>\n      <td>new</td>\n      <td>352</td>\n      <td>152</td>\n      <td>352</td>\n      <td>2022-03-13</td>\n      <td>...</td>\n      <td>NaN</td>\n      <td>NaN</td>\n      <td>NaN</td>\n      <td>NaN</td>\n      <td>NaN</td>\n      <td>NaN</td>\n      <td>NaN</td>\n      <td>NaN</td>\n      <td>NaN</td>\n      <td>NaN</td>\n    </tr>\n    <tr>\n      <th>747</th>\n      <td>1064</td>\n      <td>2022-03-13</td>\n      <td>Ahathian Manikkapoody</td>\n      <td>2022-03-13</td>\n      <td>NaN</td>\n      <td>new</td>\n      <td>353</td>\n      <td>354</td>\n      <td>354</td>\n      <td>2022-07-19</td>\n      <td>...</td>\n      <td>NaN</td>\n      <td>NaN</td>\n      <td>NaN</td>\n      <td>NaN</td>\n      <td>NaN</td>\n      <td>NaN</td>\n      <td>NaN</td>\n      <td>NaN</td>\n      <td>NaN</td>\n      <td>NaN</td>\n    </tr>\n    <tr>\n      <th>748</th>\n      <td>1065</td>\n      <td>2022-03-13</td>\n      <td>Ahathian Manikkapoody</td>\n      <td>2022-03-13</td>\n      <td>NaN</td>\n      <td>new</td>\n      <td>354</td>\n      <td>353</td>\n      <td>354</td>\n      <td>2022-08-10</td>\n      <td>...</td>\n      <td>NaN</td>\n      <td>NaN</td>\n      <td>NaN</td>\n      <td>NaN</td>\n      <td>NaN</td>\n      <td>NaN</td>\n      <td>NaN</td>\n      <td>NaN</td>\n      <td>NaN</td>\n      <td>NaN</td>\n    </tr>\n  </tbody>\n</table>\n<p>749 rows × 97 columns</p>\n</div>"
     },
     "execution_count": 336,
     "metadata": {},
     "output_type": "execute_result"
    }
   ],
   "source": [
    "# show data\n",
    "df_orders"
   ]
  },
  {
   "cell_type": "code",
   "execution_count": 337,
   "id": "5bb12023",
   "metadata": {},
   "outputs": [
    {
     "data": {
      "text/plain": "Index(['id', 'createdOn', 'modifiedBy', 'modifiedOn', 'remarks', 'state',\n       'shipper', 'receiver', 'principal', 'deliveryDate', 'pickUpDate',\n       'tour', 'owner', 'rasterLagerplatz', 'anlage', 'rasterLagerplatzPickUp',\n       'anlagePickUp', 'deliveryOnly', 'document', 'statusdirectus',\n       'construction', 'goods', 'people', 'costTrpExternal', 'cbm',\n       'totalweight', 'deliveryTime', 'pickUpTime', 'anlagen_name',\n       'principal_name', 'principal_street', 'principal_zipcode',\n       'principal_place', 'principal_email', 'principal_phone',\n       'principal_ressort', 'principal_bereich', 'receiver_name',\n       'receiver_street', 'receiver_zipcode', 'receiver_place',\n       'receiver_email', 'receiver_phone', 'shipper_name', 'shipper_street',\n       'shipper_zipcode', 'shipper_place', 'shipper_email', 'shipper_phone',\n       'pos_1_goods_dangerousGoods', 'pos_1_goodsDescription',\n       'pos_1_goods_grossWeight', 'pos_1_goods_netWeight',\n       'pos_1_goods_length', 'pos_1_goods_width', 'pos_1_goods_height',\n       'pos_1_goods_packingUnit', 'pos_1_goods_marking',\n       'pos_1_goods_quantity', 'pos_1_goods_valueChf',\n       'pos_1_goods_kommissionieren', 'pos_1_goods_stapelbar',\n       'pos_1_const_description', 'pos_1_const_quantity', 'pos_1_const_weight',\n       'pos_2_goods_dangerousGoods', 'pos_2_goodsDescription',\n       'pos_2_goods_grossWeight', 'pos_2_goods_netWeight',\n       'pos_2_goods_length', 'pos_2_goods_width', 'pos_2_goods_height',\n       'pos_2_goods_packingUnit', 'pos_2_goods_marking',\n       'pos_2_goods_quantity', 'pos_2_goods_valueChf',\n       'pos_2_goods_kommissionieren', 'pos_2_goods_stapelbar',\n       'pos_2_const_description', 'pos_2_const_quantity', 'pos_2_const_weight',\n       'pos_3_goods_dangerousGoods', 'pos_3_goodsDescription',\n       'pos_3_goods_grossWeight', 'pos_3_goods_netWeight',\n       'pos_3_goods_length', 'pos_3_goods_width', 'pos_3_goods_height',\n       'pos_3_goods_packingUnit', 'pos_3_goods_marking',\n       'pos_3_goods_quantity', 'pos_3_goods_valueChf',\n       'pos_3_goods_kommissionieren', 'pos_3_goods_stapelbar',\n       'pos_3_const_description', 'pos_3_const_quantity',\n       'pos_3_const_weight'],\n      dtype='object')"
     },
     "execution_count": 337,
     "metadata": {},
     "output_type": "execute_result"
    }
   ],
   "source": [
    "# print cols\n",
    "df_orders.columns"
   ]
  },
  {
   "cell_type": "code",
   "execution_count": 338,
   "id": "f7373862",
   "metadata": {},
   "outputs": [],
   "source": [
    "# rename cols\n",
    "df_orders.rename(columns={'createdOn': 'erstellt_datum', 'modifiedBy': 'bearbeitet_von','modifiedOn':'bearbeitet_datum','remarks': 'bemerkungen','state': 'status', 'shipper': 'ladeadresse','receiver':'lieferadresse', 'principal':'auftraggeber', 'deliveryDate':'liefer_datum', 'pickUpDate':'lade_datum','owner':'besitzer','rasterLagerplatzPickUp':'rasterLagerplatz_laden','anlagePickUp':'anlage_laden', 'rasterLagerplatz':'rasterLagerplatz_liefern','anlage':'anlage_liefern', 'deliveryOnly' : 'nur_anlieferung', 'construction': 'spez_leistung_mit_fhrz', 'goods': 'warentransport', 'people':'personentransport', 'costTrpExternal': 'trp_konsten_extern', 'cbm':'m^3','totalweight':'gewicht_total', 'deliveryTime':'liefer_zeit', 'pickUpTime':'lade_zeit','principal_name':'auftraggeber_name', 'principal_street': 'auftraggeber_strasse', 'principal_zipcode':'auftraggeber_plz','principal_place':'auftraggeber_ort', 'principal_email':'auftraggeber_email', 'principal_phone':'auftraggeber_tel','principal_ressort':'auftraggeber_ressort', 'principal_bereich':'auftraggeber_bereich', 'receiver_name':'lieferadresse_name','receiver_street':'lieferadresse_strasse', 'receiver_zipcode':'lieferadresse_plz', 'receiver_place':'lieferadresse_ort','receiver_email':'lieferadresse_email', 'receiver_phone':'lieferadresse_tel', 'shipper_name':'ladeadresse_name', 'shipper_street':'ladeadresse_strasse','shipper_zipcode':'ladeadresse_plz', 'shipper_place':'ladeadresse_ort', 'shipper_email':'ladeadresse_email', 'shipper_phone':'ladeadresse_tel','pos_1_goods_dangerousGoods':'pos_1_warentransport_gefahrgut', 'pos_1_goodsDescription':'pos_1_warentransport_beschreibung','pos_1_goods_grossWeight':'pos_1_warentransport_brutto_gewicht', 'pos_1_goods_netWeight':'pos_1_warentransport_netto_gewicht','pos_1_goods_length':'pos_1_warentransport_laenge', 'pos_1_goods_width': 'pos_1_warentransport_breite', 'pos_1_goods_height':'pos_1_warentransport_hoehe','pos_1_goods_packingUnit' : 'pos_1_warentransport_verpackungseinheit', 'pos_1_goods_marking':'pos_1_warentransport_markierung','pos_1_goods_quantity':'pos_1_warentransport_quantiaet', 'pos_1_goods_valueChf':'pos_1_warentransport_warenwert_chf','pos_1_goods_kommissionieren':'pos_1_warentransport_kommissioniern', 'pos_1_goods_stapelbar':'pos_1_warentransport_stapelbar','pos_1_const_description':'pos_1_spez_leistung_mit_fhrz_beschreibung', 'pos_1_const_quantity':'pos_1_spez_leistung_mit_fhrz_quantitaet', 'pos_1_const_weight':'pos_1_spez_leitung_mit_fhrz_gewicht'}, inplace=True)"
   ]
  },
  {
   "cell_type": "code",
   "execution_count": 339,
   "id": "349025af",
   "metadata": {},
   "outputs": [
    {
     "data": {
      "text/plain": "Index(['id', 'erstellt_datum', 'bearbeitet_von', 'bearbeitet_datum',\n       'bemerkungen', 'status', 'ladeadresse', 'lieferadresse', 'auftraggeber',\n       'liefer_datum', 'lade_datum', 'tour', 'besitzer',\n       'rasterLagerplatz_liefern', 'anlage_liefern', 'rasterLagerplatz_laden',\n       'anlage_laden', 'nur_anlieferung', 'document', 'statusdirectus',\n       'spez_leistung_mit_fhrz', 'warentransport', 'personentransport',\n       'trp_konsten_extern', 'm^3', 'gewicht_total', 'liefer_zeit',\n       'lade_zeit', 'anlagen_name', 'auftraggeber_name',\n       'auftraggeber_strasse', 'auftraggeber_plz', 'auftraggeber_ort',\n       'auftraggeber_email', 'auftraggeber_tel', 'auftraggeber_ressort',\n       'auftraggeber_bereich', 'lieferadresse_name', 'lieferadresse_strasse',\n       'lieferadresse_plz', 'lieferadresse_ort', 'lieferadresse_email',\n       'lieferadresse_tel', 'ladeadresse_name', 'ladeadresse_strasse',\n       'ladeadresse_plz', 'ladeadresse_ort', 'ladeadresse_email',\n       'ladeadresse_tel', 'pos_1_warentransport_gefahrgut',\n       'pos_1_warentransport_beschreibung',\n       'pos_1_warentransport_brutto_gewicht',\n       'pos_1_warentransport_netto_gewicht', 'pos_1_warentransport_laenge',\n       'pos_1_warentransport_breite', 'pos_1_warentransport_hoehe',\n       'pos_1_warentransport_verpackungseinheit',\n       'pos_1_warentransport_markierung', 'pos_1_warentransport_quantiaet',\n       'pos_1_warentransport_warenwert_chf',\n       'pos_1_warentransport_kommissioniern', 'pos_1_warentransport_stapelbar',\n       'pos_1_spez_leistung_mit_fhrz_beschreibung',\n       'pos_1_spez_leistung_mit_fhrz_quantitaet',\n       'pos_1_spez_leitung_mit_fhrz_gewicht', 'pos_2_goods_dangerousGoods',\n       'pos_2_goodsDescription', 'pos_2_goods_grossWeight',\n       'pos_2_goods_netWeight', 'pos_2_goods_length', 'pos_2_goods_width',\n       'pos_2_goods_height', 'pos_2_goods_packingUnit', 'pos_2_goods_marking',\n       'pos_2_goods_quantity', 'pos_2_goods_valueChf',\n       'pos_2_goods_kommissionieren', 'pos_2_goods_stapelbar',\n       'pos_2_const_description', 'pos_2_const_quantity', 'pos_2_const_weight',\n       'pos_3_goods_dangerousGoods', 'pos_3_goodsDescription',\n       'pos_3_goods_grossWeight', 'pos_3_goods_netWeight',\n       'pos_3_goods_length', 'pos_3_goods_width', 'pos_3_goods_height',\n       'pos_3_goods_packingUnit', 'pos_3_goods_marking',\n       'pos_3_goods_quantity', 'pos_3_goods_valueChf',\n       'pos_3_goods_kommissionieren', 'pos_3_goods_stapelbar',\n       'pos_3_const_description', 'pos_3_const_quantity',\n       'pos_3_const_weight'],\n      dtype='object')"
     },
     "execution_count": 339,
     "metadata": {},
     "output_type": "execute_result"
    }
   ],
   "source": [
    "# check cols\n",
    "df_orders.columns"
   ]
  },
  {
   "cell_type": "code",
   "execution_count": 340,
   "outputs": [
    {
     "data": {
      "text/plain": "id                             object\nerstellt_datum                 object\nbearbeitet_von                 object\nbearbeitet_datum               object\nbemerkungen                    object\n                                ...  \npos_3_goods_kommissionieren    object\npos_3_goods_stapelbar          object\npos_3_const_description        object\npos_3_const_quantity           object\npos_3_const_weight             object\nLength: 97, dtype: object"
     },
     "execution_count": 340,
     "metadata": {},
     "output_type": "execute_result"
    }
   ],
   "source": [
    "# check types\n",
    "df_orders.dtypes"
   ],
   "metadata": {
    "collapsed": false,
    "pycharm": {
     "name": "#%%\n"
    }
   }
  },
  {
   "cell_type": "code",
   "execution_count": 341,
   "outputs": [
    {
     "data": {
      "text/plain": "       id erstellt_datum         bearbeitet_von bearbeitet_datum  \\\n0      29     2021-03-07         Vinzenz Zwicky       2022-02-28   \n1      30     2021-03-07         Vinzenz Zwicky       2022-02-28   \n2      31     2021-03-07         Vinzenz Zwicky       2022-02-28   \n3      32     2021-03-07         Vinzenz Zwicky       2022-02-28   \n4      33     2021-03-07         Vinzenz Zwicky       2022-02-28   \n..    ...            ...                    ...              ...   \n744  1061     2022-03-13      Floreana Longatti       2022-03-13   \n745  1062     2022-03-13      Floreana Longatti       2022-03-13   \n746  1063     2022-03-13      Floreana Longatti       2022-03-13   \n747  1064     2022-03-13  Ahathian Manikkapoody       2022-03-13   \n748  1065     2022-03-13  Ahathian Manikkapoody       2022-03-13   \n\n                                          bemerkungen status ladeadresse  \\\n0                                                 NaN    new          36   \n1                                                 NaN    new          36   \n2                                                 NaN    new          36   \n3                                                 NaN    new          36   \n4                                                 NaN    new          36   \n..                                                ...    ...         ...   \n744                                               NaN    new          31   \n745  interne Lieferungen aller Aussenfiliale Material    new          31   \n746                              Details folgen noch     new         352   \n747                                               NaN    new         353   \n748                                               NaN    new         354   \n\n    lieferadresse auftraggeber liefer_datum  ... pos_3_goods_packingUnit  \\\n0              37           35   2022-07-21  ...                     NaN   \n1              37           35   2022-07-24  ...                     NaN   \n2              37           35   2022-07-25  ...                     NaN   \n3              37           35   2022-07-26  ...                     NaN   \n4              37           35   2022-07-27  ...                     NaN   \n..            ...          ...          ...  ...                     ...   \n744            40          355   2022-08-09  ...                     NaN   \n745            31          355   2022-07-23  ...                     NaN   \n746           152          352   2022-03-13  ...                     NaN   \n747           354          354   2022-07-19  ...                     NaN   \n748           353          354   2022-08-10  ...                     NaN   \n\n    pos_3_goods_marking pos_3_goods_quantity pos_3_goods_valueChf  \\\n0                   NaN                  NaN                  NaN   \n1                   NaN                  NaN                  NaN   \n2                   NaN                  NaN                  NaN   \n3                   NaN                  NaN                  NaN   \n4                   NaN                  NaN                  NaN   \n..                  ...                  ...                  ...   \n744                 NaN                  NaN                  NaN   \n745                 NaN                  NaN                  NaN   \n746                 NaN                  NaN                  NaN   \n747                 NaN                  NaN                  NaN   \n748                 NaN                  NaN                  NaN   \n\n    pos_3_goods_kommissionieren pos_3_goods_stapelbar pos_3_const_description  \\\n0                           NaN                   NaN                     NaN   \n1                           NaN                   NaN                     NaN   \n2                           NaN                   NaN                     NaN   \n3                           NaN                   NaN                     NaN   \n4                           NaN                   NaN                     NaN   \n..                          ...                   ...                     ...   \n744                         NaN                   NaN                     NaN   \n745                         NaN                   NaN                     NaN   \n746                         NaN                   NaN                     NaN   \n747                         NaN                   NaN                     NaN   \n748                         NaN                   NaN                     NaN   \n\n    pos_3_const_quantity pos_3_const_weight liefer_tagesszeit  \n0                    NaN                NaN             abend  \n1                    NaN                NaN            morgen  \n2                    NaN                NaN            morgen  \n3                    NaN                NaN            morgen  \n4                    NaN                NaN            morgen  \n..                   ...                ...               ...  \n744                  NaN                NaN              egal  \n745                  NaN                NaN              egal  \n746                  NaN                NaN              egal  \n747                  NaN                NaN              egal  \n748                  NaN                NaN              egal  \n\n[749 rows x 98 columns]",
      "text/html": "<div>\n<style scoped>\n    .dataframe tbody tr th:only-of-type {\n        vertical-align: middle;\n    }\n\n    .dataframe tbody tr th {\n        vertical-align: top;\n    }\n\n    .dataframe thead th {\n        text-align: right;\n    }\n</style>\n<table border=\"1\" class=\"dataframe\">\n  <thead>\n    <tr style=\"text-align: right;\">\n      <th></th>\n      <th>id</th>\n      <th>erstellt_datum</th>\n      <th>bearbeitet_von</th>\n      <th>bearbeitet_datum</th>\n      <th>bemerkungen</th>\n      <th>status</th>\n      <th>ladeadresse</th>\n      <th>lieferadresse</th>\n      <th>auftraggeber</th>\n      <th>liefer_datum</th>\n      <th>...</th>\n      <th>pos_3_goods_packingUnit</th>\n      <th>pos_3_goods_marking</th>\n      <th>pos_3_goods_quantity</th>\n      <th>pos_3_goods_valueChf</th>\n      <th>pos_3_goods_kommissionieren</th>\n      <th>pos_3_goods_stapelbar</th>\n      <th>pos_3_const_description</th>\n      <th>pos_3_const_quantity</th>\n      <th>pos_3_const_weight</th>\n      <th>liefer_tagesszeit</th>\n    </tr>\n  </thead>\n  <tbody>\n    <tr>\n      <th>0</th>\n      <td>29</td>\n      <td>2021-03-07</td>\n      <td>Vinzenz Zwicky</td>\n      <td>2022-02-28</td>\n      <td>NaN</td>\n      <td>new</td>\n      <td>36</td>\n      <td>37</td>\n      <td>35</td>\n      <td>2022-07-21</td>\n      <td>...</td>\n      <td>NaN</td>\n      <td>NaN</td>\n      <td>NaN</td>\n      <td>NaN</td>\n      <td>NaN</td>\n      <td>NaN</td>\n      <td>NaN</td>\n      <td>NaN</td>\n      <td>NaN</td>\n      <td>abend</td>\n    </tr>\n    <tr>\n      <th>1</th>\n      <td>30</td>\n      <td>2021-03-07</td>\n      <td>Vinzenz Zwicky</td>\n      <td>2022-02-28</td>\n      <td>NaN</td>\n      <td>new</td>\n      <td>36</td>\n      <td>37</td>\n      <td>35</td>\n      <td>2022-07-24</td>\n      <td>...</td>\n      <td>NaN</td>\n      <td>NaN</td>\n      <td>NaN</td>\n      <td>NaN</td>\n      <td>NaN</td>\n      <td>NaN</td>\n      <td>NaN</td>\n      <td>NaN</td>\n      <td>NaN</td>\n      <td>morgen</td>\n    </tr>\n    <tr>\n      <th>2</th>\n      <td>31</td>\n      <td>2021-03-07</td>\n      <td>Vinzenz Zwicky</td>\n      <td>2022-02-28</td>\n      <td>NaN</td>\n      <td>new</td>\n      <td>36</td>\n      <td>37</td>\n      <td>35</td>\n      <td>2022-07-25</td>\n      <td>...</td>\n      <td>NaN</td>\n      <td>NaN</td>\n      <td>NaN</td>\n      <td>NaN</td>\n      <td>NaN</td>\n      <td>NaN</td>\n      <td>NaN</td>\n      <td>NaN</td>\n      <td>NaN</td>\n      <td>morgen</td>\n    </tr>\n    <tr>\n      <th>3</th>\n      <td>32</td>\n      <td>2021-03-07</td>\n      <td>Vinzenz Zwicky</td>\n      <td>2022-02-28</td>\n      <td>NaN</td>\n      <td>new</td>\n      <td>36</td>\n      <td>37</td>\n      <td>35</td>\n      <td>2022-07-26</td>\n      <td>...</td>\n      <td>NaN</td>\n      <td>NaN</td>\n      <td>NaN</td>\n      <td>NaN</td>\n      <td>NaN</td>\n      <td>NaN</td>\n      <td>NaN</td>\n      <td>NaN</td>\n      <td>NaN</td>\n      <td>morgen</td>\n    </tr>\n    <tr>\n      <th>4</th>\n      <td>33</td>\n      <td>2021-03-07</td>\n      <td>Vinzenz Zwicky</td>\n      <td>2022-02-28</td>\n      <td>NaN</td>\n      <td>new</td>\n      <td>36</td>\n      <td>37</td>\n      <td>35</td>\n      <td>2022-07-27</td>\n      <td>...</td>\n      <td>NaN</td>\n      <td>NaN</td>\n      <td>NaN</td>\n      <td>NaN</td>\n      <td>NaN</td>\n      <td>NaN</td>\n      <td>NaN</td>\n      <td>NaN</td>\n      <td>NaN</td>\n      <td>morgen</td>\n    </tr>\n    <tr>\n      <th>...</th>\n      <td>...</td>\n      <td>...</td>\n      <td>...</td>\n      <td>...</td>\n      <td>...</td>\n      <td>...</td>\n      <td>...</td>\n      <td>...</td>\n      <td>...</td>\n      <td>...</td>\n      <td>...</td>\n      <td>...</td>\n      <td>...</td>\n      <td>...</td>\n      <td>...</td>\n      <td>...</td>\n      <td>...</td>\n      <td>...</td>\n      <td>...</td>\n      <td>...</td>\n      <td>...</td>\n    </tr>\n    <tr>\n      <th>744</th>\n      <td>1061</td>\n      <td>2022-03-13</td>\n      <td>Floreana Longatti</td>\n      <td>2022-03-13</td>\n      <td>NaN</td>\n      <td>new</td>\n      <td>31</td>\n      <td>40</td>\n      <td>355</td>\n      <td>2022-08-09</td>\n      <td>...</td>\n      <td>NaN</td>\n      <td>NaN</td>\n      <td>NaN</td>\n      <td>NaN</td>\n      <td>NaN</td>\n      <td>NaN</td>\n      <td>NaN</td>\n      <td>NaN</td>\n      <td>NaN</td>\n      <td>egal</td>\n    </tr>\n    <tr>\n      <th>745</th>\n      <td>1062</td>\n      <td>2022-03-13</td>\n      <td>Floreana Longatti</td>\n      <td>2022-03-13</td>\n      <td>interne Lieferungen aller Aussenfiliale Material</td>\n      <td>new</td>\n      <td>31</td>\n      <td>31</td>\n      <td>355</td>\n      <td>2022-07-23</td>\n      <td>...</td>\n      <td>NaN</td>\n      <td>NaN</td>\n      <td>NaN</td>\n      <td>NaN</td>\n      <td>NaN</td>\n      <td>NaN</td>\n      <td>NaN</td>\n      <td>NaN</td>\n      <td>NaN</td>\n      <td>egal</td>\n    </tr>\n    <tr>\n      <th>746</th>\n      <td>1063</td>\n      <td>2022-03-13</td>\n      <td>Floreana Longatti</td>\n      <td>2022-03-13</td>\n      <td>Details folgen noch</td>\n      <td>new</td>\n      <td>352</td>\n      <td>152</td>\n      <td>352</td>\n      <td>2022-03-13</td>\n      <td>...</td>\n      <td>NaN</td>\n      <td>NaN</td>\n      <td>NaN</td>\n      <td>NaN</td>\n      <td>NaN</td>\n      <td>NaN</td>\n      <td>NaN</td>\n      <td>NaN</td>\n      <td>NaN</td>\n      <td>egal</td>\n    </tr>\n    <tr>\n      <th>747</th>\n      <td>1064</td>\n      <td>2022-03-13</td>\n      <td>Ahathian Manikkapoody</td>\n      <td>2022-03-13</td>\n      <td>NaN</td>\n      <td>new</td>\n      <td>353</td>\n      <td>354</td>\n      <td>354</td>\n      <td>2022-07-19</td>\n      <td>...</td>\n      <td>NaN</td>\n      <td>NaN</td>\n      <td>NaN</td>\n      <td>NaN</td>\n      <td>NaN</td>\n      <td>NaN</td>\n      <td>NaN</td>\n      <td>NaN</td>\n      <td>NaN</td>\n      <td>egal</td>\n    </tr>\n    <tr>\n      <th>748</th>\n      <td>1065</td>\n      <td>2022-03-13</td>\n      <td>Ahathian Manikkapoody</td>\n      <td>2022-03-13</td>\n      <td>NaN</td>\n      <td>new</td>\n      <td>354</td>\n      <td>353</td>\n      <td>354</td>\n      <td>2022-08-10</td>\n      <td>...</td>\n      <td>NaN</td>\n      <td>NaN</td>\n      <td>NaN</td>\n      <td>NaN</td>\n      <td>NaN</td>\n      <td>NaN</td>\n      <td>NaN</td>\n      <td>NaN</td>\n      <td>NaN</td>\n      <td>egal</td>\n    </tr>\n  </tbody>\n</table>\n<p>749 rows × 98 columns</p>\n</div>"
     },
     "execution_count": 341,
     "metadata": {},
     "output_type": "execute_result"
    }
   ],
   "source": [
    "# condition for tageszeit morgen 7-11:59, abend 12-19:59, nacht 20:00-6:59, egal 00:00\n",
    "conditions_liefern = [(pd.to_numeric(df_orders['liefer_zeit'].str.slice(start=0,stop=2)) >= 7) & (pd.to_numeric(df_orders['liefer_zeit'].str.slice(start=0,stop=2)) < 12), (pd.to_numeric(df_orders['liefer_zeit'].str.slice(start=0,stop=2)) >= 12) & (pd.to_numeric(df_orders['liefer_zeit'].str.slice(start=0,stop=2)) < 20),(pd.to_numeric(df_orders['liefer_zeit'].str.slice(start=0,stop=2)) >= 20) & (pd.to_numeric(df_orders['liefer_zeit'].str.slice(start=0,stop=2)) <= 23), (pd.to_numeric(df_orders['liefer_zeit'].str.slice(start=0,stop=2)) > 00) & (pd.to_numeric(df_orders['liefer_zeit'].str.slice(start=0,stop=2)) < 7),(pd.to_numeric(df_orders['liefer_zeit'].str.slice(start=0,stop=2)) == 00) & (pd.to_numeric(df_orders['liefer_zeit'].str.slice(start=3,stop=5)) == 00)]\n",
    "# values to set for condition\n",
    "values = ['morgen','abend','nacht','nacht','egal']\n",
    "\n",
    "# add tageszeit col for liefer_zeit\n",
    "df_orders['liefer_tagesszeit'] = np.select(conditions_liefern,values)\n",
    "df_orders"
   ],
   "metadata": {
    "collapsed": false,
    "pycharm": {
     "name": "#%%\n"
    }
   }
  },
  {
   "cell_type": "code",
   "execution_count": 342,
   "outputs": [
    {
     "data": {
      "text/plain": "       id erstellt_datum         bearbeitet_von bearbeitet_datum  \\\n0      29     2021-03-07         Vinzenz Zwicky       2022-02-28   \n1      30     2021-03-07         Vinzenz Zwicky       2022-02-28   \n2      31     2021-03-07         Vinzenz Zwicky       2022-02-28   \n3      32     2021-03-07         Vinzenz Zwicky       2022-02-28   \n4      33     2021-03-07         Vinzenz Zwicky       2022-02-28   \n..    ...            ...                    ...              ...   \n744  1061     2022-03-13      Floreana Longatti       2022-03-13   \n745  1062     2022-03-13      Floreana Longatti       2022-03-13   \n746  1063     2022-03-13      Floreana Longatti       2022-03-13   \n747  1064     2022-03-13  Ahathian Manikkapoody       2022-03-13   \n748  1065     2022-03-13  Ahathian Manikkapoody       2022-03-13   \n\n                                          bemerkungen status ladeadresse  \\\n0                                                 NaN    new          36   \n1                                                 NaN    new          36   \n2                                                 NaN    new          36   \n3                                                 NaN    new          36   \n4                                                 NaN    new          36   \n..                                                ...    ...         ...   \n744                                               NaN    new          31   \n745  interne Lieferungen aller Aussenfiliale Material    new          31   \n746                              Details folgen noch     new         352   \n747                                               NaN    new         353   \n748                                               NaN    new         354   \n\n    lieferadresse auftraggeber liefer_datum  ... pos_3_goods_marking  \\\n0              37           35   2022-07-21  ...                 NaN   \n1              37           35   2022-07-24  ...                 NaN   \n2              37           35   2022-07-25  ...                 NaN   \n3              37           35   2022-07-26  ...                 NaN   \n4              37           35   2022-07-27  ...                 NaN   \n..            ...          ...          ...  ...                 ...   \n744            40          355   2022-08-09  ...                 NaN   \n745            31          355   2022-07-23  ...                 NaN   \n746           152          352   2022-03-13  ...                 NaN   \n747           354          354   2022-07-19  ...                 NaN   \n748           353          354   2022-08-10  ...                 NaN   \n\n    pos_3_goods_quantity pos_3_goods_valueChf pos_3_goods_kommissionieren  \\\n0                    NaN                  NaN                         NaN   \n1                    NaN                  NaN                         NaN   \n2                    NaN                  NaN                         NaN   \n3                    NaN                  NaN                         NaN   \n4                    NaN                  NaN                         NaN   \n..                   ...                  ...                         ...   \n744                  NaN                  NaN                         NaN   \n745                  NaN                  NaN                         NaN   \n746                  NaN                  NaN                         NaN   \n747                  NaN                  NaN                         NaN   \n748                  NaN                  NaN                         NaN   \n\n    pos_3_goods_stapelbar pos_3_const_description pos_3_const_quantity  \\\n0                     NaN                     NaN                  NaN   \n1                     NaN                     NaN                  NaN   \n2                     NaN                     NaN                  NaN   \n3                     NaN                     NaN                  NaN   \n4                     NaN                     NaN                  NaN   \n..                    ...                     ...                  ...   \n744                   NaN                     NaN                  NaN   \n745                   NaN                     NaN                  NaN   \n746                   NaN                     NaN                  NaN   \n747                   NaN                     NaN                  NaN   \n748                   NaN                     NaN                  NaN   \n\n    pos_3_const_weight liefer_tagesszeit lade_tagesszeit  \n0                  NaN             abend          morgen  \n1                  NaN            morgen            egal  \n2                  NaN            morgen            egal  \n3                  NaN            morgen            egal  \n4                  NaN            morgen            egal  \n..                 ...               ...             ...  \n744                NaN              egal            egal  \n745                NaN              egal            egal  \n746                NaN              egal            egal  \n747                NaN              egal            egal  \n748                NaN              egal            egal  \n\n[749 rows x 99 columns]",
      "text/html": "<div>\n<style scoped>\n    .dataframe tbody tr th:only-of-type {\n        vertical-align: middle;\n    }\n\n    .dataframe tbody tr th {\n        vertical-align: top;\n    }\n\n    .dataframe thead th {\n        text-align: right;\n    }\n</style>\n<table border=\"1\" class=\"dataframe\">\n  <thead>\n    <tr style=\"text-align: right;\">\n      <th></th>\n      <th>id</th>\n      <th>erstellt_datum</th>\n      <th>bearbeitet_von</th>\n      <th>bearbeitet_datum</th>\n      <th>bemerkungen</th>\n      <th>status</th>\n      <th>ladeadresse</th>\n      <th>lieferadresse</th>\n      <th>auftraggeber</th>\n      <th>liefer_datum</th>\n      <th>...</th>\n      <th>pos_3_goods_marking</th>\n      <th>pos_3_goods_quantity</th>\n      <th>pos_3_goods_valueChf</th>\n      <th>pos_3_goods_kommissionieren</th>\n      <th>pos_3_goods_stapelbar</th>\n      <th>pos_3_const_description</th>\n      <th>pos_3_const_quantity</th>\n      <th>pos_3_const_weight</th>\n      <th>liefer_tagesszeit</th>\n      <th>lade_tagesszeit</th>\n    </tr>\n  </thead>\n  <tbody>\n    <tr>\n      <th>0</th>\n      <td>29</td>\n      <td>2021-03-07</td>\n      <td>Vinzenz Zwicky</td>\n      <td>2022-02-28</td>\n      <td>NaN</td>\n      <td>new</td>\n      <td>36</td>\n      <td>37</td>\n      <td>35</td>\n      <td>2022-07-21</td>\n      <td>...</td>\n      <td>NaN</td>\n      <td>NaN</td>\n      <td>NaN</td>\n      <td>NaN</td>\n      <td>NaN</td>\n      <td>NaN</td>\n      <td>NaN</td>\n      <td>NaN</td>\n      <td>abend</td>\n      <td>morgen</td>\n    </tr>\n    <tr>\n      <th>1</th>\n      <td>30</td>\n      <td>2021-03-07</td>\n      <td>Vinzenz Zwicky</td>\n      <td>2022-02-28</td>\n      <td>NaN</td>\n      <td>new</td>\n      <td>36</td>\n      <td>37</td>\n      <td>35</td>\n      <td>2022-07-24</td>\n      <td>...</td>\n      <td>NaN</td>\n      <td>NaN</td>\n      <td>NaN</td>\n      <td>NaN</td>\n      <td>NaN</td>\n      <td>NaN</td>\n      <td>NaN</td>\n      <td>NaN</td>\n      <td>morgen</td>\n      <td>egal</td>\n    </tr>\n    <tr>\n      <th>2</th>\n      <td>31</td>\n      <td>2021-03-07</td>\n      <td>Vinzenz Zwicky</td>\n      <td>2022-02-28</td>\n      <td>NaN</td>\n      <td>new</td>\n      <td>36</td>\n      <td>37</td>\n      <td>35</td>\n      <td>2022-07-25</td>\n      <td>...</td>\n      <td>NaN</td>\n      <td>NaN</td>\n      <td>NaN</td>\n      <td>NaN</td>\n      <td>NaN</td>\n      <td>NaN</td>\n      <td>NaN</td>\n      <td>NaN</td>\n      <td>morgen</td>\n      <td>egal</td>\n    </tr>\n    <tr>\n      <th>3</th>\n      <td>32</td>\n      <td>2021-03-07</td>\n      <td>Vinzenz Zwicky</td>\n      <td>2022-02-28</td>\n      <td>NaN</td>\n      <td>new</td>\n      <td>36</td>\n      <td>37</td>\n      <td>35</td>\n      <td>2022-07-26</td>\n      <td>...</td>\n      <td>NaN</td>\n      <td>NaN</td>\n      <td>NaN</td>\n      <td>NaN</td>\n      <td>NaN</td>\n      <td>NaN</td>\n      <td>NaN</td>\n      <td>NaN</td>\n      <td>morgen</td>\n      <td>egal</td>\n    </tr>\n    <tr>\n      <th>4</th>\n      <td>33</td>\n      <td>2021-03-07</td>\n      <td>Vinzenz Zwicky</td>\n      <td>2022-02-28</td>\n      <td>NaN</td>\n      <td>new</td>\n      <td>36</td>\n      <td>37</td>\n      <td>35</td>\n      <td>2022-07-27</td>\n      <td>...</td>\n      <td>NaN</td>\n      <td>NaN</td>\n      <td>NaN</td>\n      <td>NaN</td>\n      <td>NaN</td>\n      <td>NaN</td>\n      <td>NaN</td>\n      <td>NaN</td>\n      <td>morgen</td>\n      <td>egal</td>\n    </tr>\n    <tr>\n      <th>...</th>\n      <td>...</td>\n      <td>...</td>\n      <td>...</td>\n      <td>...</td>\n      <td>...</td>\n      <td>...</td>\n      <td>...</td>\n      <td>...</td>\n      <td>...</td>\n      <td>...</td>\n      <td>...</td>\n      <td>...</td>\n      <td>...</td>\n      <td>...</td>\n      <td>...</td>\n      <td>...</td>\n      <td>...</td>\n      <td>...</td>\n      <td>...</td>\n      <td>...</td>\n      <td>...</td>\n    </tr>\n    <tr>\n      <th>744</th>\n      <td>1061</td>\n      <td>2022-03-13</td>\n      <td>Floreana Longatti</td>\n      <td>2022-03-13</td>\n      <td>NaN</td>\n      <td>new</td>\n      <td>31</td>\n      <td>40</td>\n      <td>355</td>\n      <td>2022-08-09</td>\n      <td>...</td>\n      <td>NaN</td>\n      <td>NaN</td>\n      <td>NaN</td>\n      <td>NaN</td>\n      <td>NaN</td>\n      <td>NaN</td>\n      <td>NaN</td>\n      <td>NaN</td>\n      <td>egal</td>\n      <td>egal</td>\n    </tr>\n    <tr>\n      <th>745</th>\n      <td>1062</td>\n      <td>2022-03-13</td>\n      <td>Floreana Longatti</td>\n      <td>2022-03-13</td>\n      <td>interne Lieferungen aller Aussenfiliale Material</td>\n      <td>new</td>\n      <td>31</td>\n      <td>31</td>\n      <td>355</td>\n      <td>2022-07-23</td>\n      <td>...</td>\n      <td>NaN</td>\n      <td>NaN</td>\n      <td>NaN</td>\n      <td>NaN</td>\n      <td>NaN</td>\n      <td>NaN</td>\n      <td>NaN</td>\n      <td>NaN</td>\n      <td>egal</td>\n      <td>egal</td>\n    </tr>\n    <tr>\n      <th>746</th>\n      <td>1063</td>\n      <td>2022-03-13</td>\n      <td>Floreana Longatti</td>\n      <td>2022-03-13</td>\n      <td>Details folgen noch</td>\n      <td>new</td>\n      <td>352</td>\n      <td>152</td>\n      <td>352</td>\n      <td>2022-03-13</td>\n      <td>...</td>\n      <td>NaN</td>\n      <td>NaN</td>\n      <td>NaN</td>\n      <td>NaN</td>\n      <td>NaN</td>\n      <td>NaN</td>\n      <td>NaN</td>\n      <td>NaN</td>\n      <td>egal</td>\n      <td>egal</td>\n    </tr>\n    <tr>\n      <th>747</th>\n      <td>1064</td>\n      <td>2022-03-13</td>\n      <td>Ahathian Manikkapoody</td>\n      <td>2022-03-13</td>\n      <td>NaN</td>\n      <td>new</td>\n      <td>353</td>\n      <td>354</td>\n      <td>354</td>\n      <td>2022-07-19</td>\n      <td>...</td>\n      <td>NaN</td>\n      <td>NaN</td>\n      <td>NaN</td>\n      <td>NaN</td>\n      <td>NaN</td>\n      <td>NaN</td>\n      <td>NaN</td>\n      <td>NaN</td>\n      <td>egal</td>\n      <td>egal</td>\n    </tr>\n    <tr>\n      <th>748</th>\n      <td>1065</td>\n      <td>2022-03-13</td>\n      <td>Ahathian Manikkapoody</td>\n      <td>2022-03-13</td>\n      <td>NaN</td>\n      <td>new</td>\n      <td>354</td>\n      <td>353</td>\n      <td>354</td>\n      <td>2022-08-10</td>\n      <td>...</td>\n      <td>NaN</td>\n      <td>NaN</td>\n      <td>NaN</td>\n      <td>NaN</td>\n      <td>NaN</td>\n      <td>NaN</td>\n      <td>NaN</td>\n      <td>NaN</td>\n      <td>egal</td>\n      <td>egal</td>\n    </tr>\n  </tbody>\n</table>\n<p>749 rows × 99 columns</p>\n</div>"
     },
     "execution_count": 342,
     "metadata": {},
     "output_type": "execute_result"
    }
   ],
   "source": [
    "# condition for tageszeit morgen 7-11:59, abend 12-19:59, nacht 20:00-6:59, egal 00:00\n",
    "conditions_laden = [(pd.to_numeric(df_orders['lade_zeit'].str.slice(start=0,stop=2)) >= 7) & (pd.to_numeric(df_orders['lade_zeit'].str.slice(start=0,stop=2)) < 12), (pd.to_numeric(df_orders['lade_zeit'].str.slice(start=0,stop=2)) >= 12) & (pd.to_numeric(df_orders['lade_zeit'].str.slice(start=0,stop=2)) < 20),(pd.to_numeric(df_orders['lade_zeit'].str.slice(start=0,stop=2)) >= 20) & (pd.to_numeric(df_orders['lade_zeit'].str.slice(start=0,stop=2)) <= 23), (pd.to_numeric(df_orders['lade_zeit'].str.slice(start=0,stop=2)) > 00) & (pd.to_numeric(df_orders['lade_zeit'].str.slice(start=0,stop=2)) < 7),(pd.to_numeric(df_orders['lade_zeit'].str.slice(start=0,stop=2)) == 00) & (pd.to_numeric(df_orders['lade_zeit'].str.slice(start=3,stop=5)) == 00)]\n",
    "# values to set for condition\n",
    "values = ['morgen','abend','nacht','nacht','egal']\n",
    "\n",
    "# add tageszeit col for lade_zeit\n",
    "df_orders['lade_tagesszeit'] = np.select(conditions_laden,values)\n",
    "df_orders"
   ],
   "metadata": {
    "collapsed": false,
    "pycharm": {
     "name": "#%%\n"
    }
   }
  },
  {
   "cell_type": "code",
   "execution_count": 343,
   "outputs": [],
   "source": [
    "# shorten plz to 3 decimal points\n",
    "df_orders['auftraggeber_plz_kurz'] = df_orders.auftraggeber_plz.str.slice(start=0,stop=3)\n",
    "df_orders['ladeadresse_plz_kurz'] = df_orders.ladeadresse_plz.str.slice(start=0,stop=3)\n",
    "df_orders['lieferadresse_plz_kurz'] = df_orders.lieferadresse_plz.str.slice(start=0,stop=3)"
   ],
   "metadata": {
    "collapsed": false,
    "pycharm": {
     "name": "#%%\n"
    }
   }
  },
  {
   "cell_type": "code",
   "execution_count": 344,
   "outputs": [],
   "source": [
    "df_orders_with_titles = df_orders.copy()"
   ],
   "metadata": {
    "collapsed": false,
    "pycharm": {
     "name": "#%%\n"
    }
   }
  },
  {
   "cell_type": "code",
   "execution_count": 345,
   "outputs": [],
   "source": [
    "for col in df_orders.columns:\n",
    "    df_orders_with_titles[col] = col + \": \" + df_orders_with_titles[col]\n",
    "\n",
    "df_orders_with_titles = df_orders_with_titles.add_suffix(\"_mit_titel\")"
   ],
   "metadata": {
    "collapsed": false,
    "pycharm": {
     "name": "#%%\n"
    }
   }
  },
  {
   "cell_type": "code",
   "execution_count": 346,
   "outputs": [
    {
     "data": {
      "text/plain": "       id erstellt_datum         bearbeitet_von bearbeitet_datum  \\\n0      29     2021-03-07         Vinzenz Zwicky       2022-02-28   \n1      30     2021-03-07         Vinzenz Zwicky       2022-02-28   \n2      31     2021-03-07         Vinzenz Zwicky       2022-02-28   \n3      32     2021-03-07         Vinzenz Zwicky       2022-02-28   \n4      33     2021-03-07         Vinzenz Zwicky       2022-02-28   \n..    ...            ...                    ...              ...   \n744  1061     2022-03-13      Floreana Longatti       2022-03-13   \n745  1062     2022-03-13      Floreana Longatti       2022-03-13   \n746  1063     2022-03-13      Floreana Longatti       2022-03-13   \n747  1064     2022-03-13  Ahathian Manikkapoody       2022-03-13   \n748  1065     2022-03-13  Ahathian Manikkapoody       2022-03-13   \n\n                                          bemerkungen status ladeadresse  \\\n0                                                 NaN    new          36   \n1                                                 NaN    new          36   \n2                                                 NaN    new          36   \n3                                                 NaN    new          36   \n4                                                 NaN    new          36   \n..                                                ...    ...         ...   \n744                                               NaN    new          31   \n745  interne Lieferungen aller Aussenfiliale Material    new          31   \n746                              Details folgen noch     new         352   \n747                                               NaN    new         353   \n748                                               NaN    new         354   \n\n    lieferadresse auftraggeber liefer_datum  ...  \\\n0              37           35   2022-07-21  ...   \n1              37           35   2022-07-24  ...   \n2              37           35   2022-07-25  ...   \n3              37           35   2022-07-26  ...   \n4              37           35   2022-07-27  ...   \n..            ...          ...          ...  ...   \n744            40          355   2022-08-09  ...   \n745            31          355   2022-07-23  ...   \n746           152          352   2022-03-13  ...   \n747           354          354   2022-07-19  ...   \n748           353          354   2022-08-10  ...   \n\n    pos_3_goods_kommissionieren_mit_titel pos_3_goods_stapelbar_mit_titel  \\\n0                                     NaN                             NaN   \n1                                     NaN                             NaN   \n2                                     NaN                             NaN   \n3                                     NaN                             NaN   \n4                                     NaN                             NaN   \n..                                    ...                             ...   \n744                                   NaN                             NaN   \n745                                   NaN                             NaN   \n746                                   NaN                             NaN   \n747                                   NaN                             NaN   \n748                                   NaN                             NaN   \n\n    pos_3_const_description_mit_titel pos_3_const_quantity_mit_titel  \\\n0                                 NaN                            NaN   \n1                                 NaN                            NaN   \n2                                 NaN                            NaN   \n3                                 NaN                            NaN   \n4                                 NaN                            NaN   \n..                                ...                            ...   \n744                               NaN                            NaN   \n745                               NaN                            NaN   \n746                               NaN                            NaN   \n747                               NaN                            NaN   \n748                               NaN                            NaN   \n\n    pos_3_const_weight_mit_titel liefer_tagesszeit_mit_titel  \\\n0                            NaN    liefer_tagesszeit: abend   \n1                            NaN   liefer_tagesszeit: morgen   \n2                            NaN   liefer_tagesszeit: morgen   \n3                            NaN   liefer_tagesszeit: morgen   \n4                            NaN   liefer_tagesszeit: morgen   \n..                           ...                         ...   \n744                          NaN     liefer_tagesszeit: egal   \n745                          NaN     liefer_tagesszeit: egal   \n746                          NaN     liefer_tagesszeit: egal   \n747                          NaN     liefer_tagesszeit: egal   \n748                          NaN     liefer_tagesszeit: egal   \n\n    lade_tagesszeit_mit_titel auftraggeber_plz_kurz_mit_titel  \\\n0     lade_tagesszeit: morgen      auftraggeber_plz_kurz: 840   \n1       lade_tagesszeit: egal      auftraggeber_plz_kurz: 840   \n2       lade_tagesszeit: egal      auftraggeber_plz_kurz: 840   \n3       lade_tagesszeit: egal      auftraggeber_plz_kurz: 840   \n4       lade_tagesszeit: egal      auftraggeber_plz_kurz: 840   \n..                        ...                             ...   \n744     lade_tagesszeit: egal      auftraggeber_plz_kurz: 906   \n745     lade_tagesszeit: egal      auftraggeber_plz_kurz: 906   \n746     lade_tagesszeit: egal      auftraggeber_plz_kurz: 398   \n747     lade_tagesszeit: egal      auftraggeber_plz_kurz: 600   \n748     lade_tagesszeit: egal      auftraggeber_plz_kurz: 600   \n\n    ladeadresse_plz_kurz_mit_titel lieferadresse_plz_kurz_mit_titel  \n0        ladeadresse_plz_kurz: 398      lieferadresse_plz_kurz: 399  \n1        ladeadresse_plz_kurz: 398      lieferadresse_plz_kurz: 399  \n2        ladeadresse_plz_kurz: 398      lieferadresse_plz_kurz: 399  \n3        ladeadresse_plz_kurz: 398      lieferadresse_plz_kurz: 399  \n4        ladeadresse_plz_kurz: 398      lieferadresse_plz_kurz: 399  \n..                             ...                              ...  \n744      ladeadresse_plz_kurz: 398      lieferadresse_plz_kurz: 300  \n745      ladeadresse_plz_kurz: 398      lieferadresse_plz_kurz: 398  \n746      ladeadresse_plz_kurz: 398      lieferadresse_plz_kurz: 301  \n747      ladeadresse_plz_kurz: 600      lieferadresse_plz_kurz: 600  \n748      ladeadresse_plz_kurz: 600      lieferadresse_plz_kurz: 600  \n\n[749 rows x 204 columns]",
      "text/html": "<div>\n<style scoped>\n    .dataframe tbody tr th:only-of-type {\n        vertical-align: middle;\n    }\n\n    .dataframe tbody tr th {\n        vertical-align: top;\n    }\n\n    .dataframe thead th {\n        text-align: right;\n    }\n</style>\n<table border=\"1\" class=\"dataframe\">\n  <thead>\n    <tr style=\"text-align: right;\">\n      <th></th>\n      <th>id</th>\n      <th>erstellt_datum</th>\n      <th>bearbeitet_von</th>\n      <th>bearbeitet_datum</th>\n      <th>bemerkungen</th>\n      <th>status</th>\n      <th>ladeadresse</th>\n      <th>lieferadresse</th>\n      <th>auftraggeber</th>\n      <th>liefer_datum</th>\n      <th>...</th>\n      <th>pos_3_goods_kommissionieren_mit_titel</th>\n      <th>pos_3_goods_stapelbar_mit_titel</th>\n      <th>pos_3_const_description_mit_titel</th>\n      <th>pos_3_const_quantity_mit_titel</th>\n      <th>pos_3_const_weight_mit_titel</th>\n      <th>liefer_tagesszeit_mit_titel</th>\n      <th>lade_tagesszeit_mit_titel</th>\n      <th>auftraggeber_plz_kurz_mit_titel</th>\n      <th>ladeadresse_plz_kurz_mit_titel</th>\n      <th>lieferadresse_plz_kurz_mit_titel</th>\n    </tr>\n  </thead>\n  <tbody>\n    <tr>\n      <th>0</th>\n      <td>29</td>\n      <td>2021-03-07</td>\n      <td>Vinzenz Zwicky</td>\n      <td>2022-02-28</td>\n      <td>NaN</td>\n      <td>new</td>\n      <td>36</td>\n      <td>37</td>\n      <td>35</td>\n      <td>2022-07-21</td>\n      <td>...</td>\n      <td>NaN</td>\n      <td>NaN</td>\n      <td>NaN</td>\n      <td>NaN</td>\n      <td>NaN</td>\n      <td>liefer_tagesszeit: abend</td>\n      <td>lade_tagesszeit: morgen</td>\n      <td>auftraggeber_plz_kurz: 840</td>\n      <td>ladeadresse_plz_kurz: 398</td>\n      <td>lieferadresse_plz_kurz: 399</td>\n    </tr>\n    <tr>\n      <th>1</th>\n      <td>30</td>\n      <td>2021-03-07</td>\n      <td>Vinzenz Zwicky</td>\n      <td>2022-02-28</td>\n      <td>NaN</td>\n      <td>new</td>\n      <td>36</td>\n      <td>37</td>\n      <td>35</td>\n      <td>2022-07-24</td>\n      <td>...</td>\n      <td>NaN</td>\n      <td>NaN</td>\n      <td>NaN</td>\n      <td>NaN</td>\n      <td>NaN</td>\n      <td>liefer_tagesszeit: morgen</td>\n      <td>lade_tagesszeit: egal</td>\n      <td>auftraggeber_plz_kurz: 840</td>\n      <td>ladeadresse_plz_kurz: 398</td>\n      <td>lieferadresse_plz_kurz: 399</td>\n    </tr>\n    <tr>\n      <th>2</th>\n      <td>31</td>\n      <td>2021-03-07</td>\n      <td>Vinzenz Zwicky</td>\n      <td>2022-02-28</td>\n      <td>NaN</td>\n      <td>new</td>\n      <td>36</td>\n      <td>37</td>\n      <td>35</td>\n      <td>2022-07-25</td>\n      <td>...</td>\n      <td>NaN</td>\n      <td>NaN</td>\n      <td>NaN</td>\n      <td>NaN</td>\n      <td>NaN</td>\n      <td>liefer_tagesszeit: morgen</td>\n      <td>lade_tagesszeit: egal</td>\n      <td>auftraggeber_plz_kurz: 840</td>\n      <td>ladeadresse_plz_kurz: 398</td>\n      <td>lieferadresse_plz_kurz: 399</td>\n    </tr>\n    <tr>\n      <th>3</th>\n      <td>32</td>\n      <td>2021-03-07</td>\n      <td>Vinzenz Zwicky</td>\n      <td>2022-02-28</td>\n      <td>NaN</td>\n      <td>new</td>\n      <td>36</td>\n      <td>37</td>\n      <td>35</td>\n      <td>2022-07-26</td>\n      <td>...</td>\n      <td>NaN</td>\n      <td>NaN</td>\n      <td>NaN</td>\n      <td>NaN</td>\n      <td>NaN</td>\n      <td>liefer_tagesszeit: morgen</td>\n      <td>lade_tagesszeit: egal</td>\n      <td>auftraggeber_plz_kurz: 840</td>\n      <td>ladeadresse_plz_kurz: 398</td>\n      <td>lieferadresse_plz_kurz: 399</td>\n    </tr>\n    <tr>\n      <th>4</th>\n      <td>33</td>\n      <td>2021-03-07</td>\n      <td>Vinzenz Zwicky</td>\n      <td>2022-02-28</td>\n      <td>NaN</td>\n      <td>new</td>\n      <td>36</td>\n      <td>37</td>\n      <td>35</td>\n      <td>2022-07-27</td>\n      <td>...</td>\n      <td>NaN</td>\n      <td>NaN</td>\n      <td>NaN</td>\n      <td>NaN</td>\n      <td>NaN</td>\n      <td>liefer_tagesszeit: morgen</td>\n      <td>lade_tagesszeit: egal</td>\n      <td>auftraggeber_plz_kurz: 840</td>\n      <td>ladeadresse_plz_kurz: 398</td>\n      <td>lieferadresse_plz_kurz: 399</td>\n    </tr>\n    <tr>\n      <th>...</th>\n      <td>...</td>\n      <td>...</td>\n      <td>...</td>\n      <td>...</td>\n      <td>...</td>\n      <td>...</td>\n      <td>...</td>\n      <td>...</td>\n      <td>...</td>\n      <td>...</td>\n      <td>...</td>\n      <td>...</td>\n      <td>...</td>\n      <td>...</td>\n      <td>...</td>\n      <td>...</td>\n      <td>...</td>\n      <td>...</td>\n      <td>...</td>\n      <td>...</td>\n      <td>...</td>\n    </tr>\n    <tr>\n      <th>744</th>\n      <td>1061</td>\n      <td>2022-03-13</td>\n      <td>Floreana Longatti</td>\n      <td>2022-03-13</td>\n      <td>NaN</td>\n      <td>new</td>\n      <td>31</td>\n      <td>40</td>\n      <td>355</td>\n      <td>2022-08-09</td>\n      <td>...</td>\n      <td>NaN</td>\n      <td>NaN</td>\n      <td>NaN</td>\n      <td>NaN</td>\n      <td>NaN</td>\n      <td>liefer_tagesszeit: egal</td>\n      <td>lade_tagesszeit: egal</td>\n      <td>auftraggeber_plz_kurz: 906</td>\n      <td>ladeadresse_plz_kurz: 398</td>\n      <td>lieferadresse_plz_kurz: 300</td>\n    </tr>\n    <tr>\n      <th>745</th>\n      <td>1062</td>\n      <td>2022-03-13</td>\n      <td>Floreana Longatti</td>\n      <td>2022-03-13</td>\n      <td>interne Lieferungen aller Aussenfiliale Material</td>\n      <td>new</td>\n      <td>31</td>\n      <td>31</td>\n      <td>355</td>\n      <td>2022-07-23</td>\n      <td>...</td>\n      <td>NaN</td>\n      <td>NaN</td>\n      <td>NaN</td>\n      <td>NaN</td>\n      <td>NaN</td>\n      <td>liefer_tagesszeit: egal</td>\n      <td>lade_tagesszeit: egal</td>\n      <td>auftraggeber_plz_kurz: 906</td>\n      <td>ladeadresse_plz_kurz: 398</td>\n      <td>lieferadresse_plz_kurz: 398</td>\n    </tr>\n    <tr>\n      <th>746</th>\n      <td>1063</td>\n      <td>2022-03-13</td>\n      <td>Floreana Longatti</td>\n      <td>2022-03-13</td>\n      <td>Details folgen noch</td>\n      <td>new</td>\n      <td>352</td>\n      <td>152</td>\n      <td>352</td>\n      <td>2022-03-13</td>\n      <td>...</td>\n      <td>NaN</td>\n      <td>NaN</td>\n      <td>NaN</td>\n      <td>NaN</td>\n      <td>NaN</td>\n      <td>liefer_tagesszeit: egal</td>\n      <td>lade_tagesszeit: egal</td>\n      <td>auftraggeber_plz_kurz: 398</td>\n      <td>ladeadresse_plz_kurz: 398</td>\n      <td>lieferadresse_plz_kurz: 301</td>\n    </tr>\n    <tr>\n      <th>747</th>\n      <td>1064</td>\n      <td>2022-03-13</td>\n      <td>Ahathian Manikkapoody</td>\n      <td>2022-03-13</td>\n      <td>NaN</td>\n      <td>new</td>\n      <td>353</td>\n      <td>354</td>\n      <td>354</td>\n      <td>2022-07-19</td>\n      <td>...</td>\n      <td>NaN</td>\n      <td>NaN</td>\n      <td>NaN</td>\n      <td>NaN</td>\n      <td>NaN</td>\n      <td>liefer_tagesszeit: egal</td>\n      <td>lade_tagesszeit: egal</td>\n      <td>auftraggeber_plz_kurz: 600</td>\n      <td>ladeadresse_plz_kurz: 600</td>\n      <td>lieferadresse_plz_kurz: 600</td>\n    </tr>\n    <tr>\n      <th>748</th>\n      <td>1065</td>\n      <td>2022-03-13</td>\n      <td>Ahathian Manikkapoody</td>\n      <td>2022-03-13</td>\n      <td>NaN</td>\n      <td>new</td>\n      <td>354</td>\n      <td>353</td>\n      <td>354</td>\n      <td>2022-08-10</td>\n      <td>...</td>\n      <td>NaN</td>\n      <td>NaN</td>\n      <td>NaN</td>\n      <td>NaN</td>\n      <td>NaN</td>\n      <td>liefer_tagesszeit: egal</td>\n      <td>lade_tagesszeit: egal</td>\n      <td>auftraggeber_plz_kurz: 600</td>\n      <td>ladeadresse_plz_kurz: 600</td>\n      <td>lieferadresse_plz_kurz: 600</td>\n    </tr>\n  </tbody>\n</table>\n<p>749 rows × 204 columns</p>\n</div>"
     },
     "execution_count": 346,
     "metadata": {},
     "output_type": "execute_result"
    }
   ],
   "source": [
    "df_orders_final = pd.concat([df_orders,df_orders_with_titles], axis=1)\n",
    "df_orders_final"
   ],
   "metadata": {
    "collapsed": false,
    "pycharm": {
     "name": "#%%\n"
    }
   }
  },
  {
   "cell_type": "code",
   "execution_count": 347,
   "outputs": [],
   "source": [
    "# check if output folder exists\n",
    "path_output = \".\\\\output\"\n",
    "isExist = os.path.exists(path_output)\n",
    "if not isExist:\n",
    "    os.makedirs(path_output)\n",
    "    print(\"Created directory output\")"
   ],
   "metadata": {
    "collapsed": false,
    "pycharm": {
     "name": "#%%\n"
    }
   }
  },
  {
   "cell_type": "code",
   "execution_count": 348,
   "outputs": [],
   "source": [
    "# save transformed data\n",
    "# existing files will be overridden\n",
    "df_orders_final.to_csv(path_output + \"\\\\orders_transformiert.csv\")\n",
    "# only works if xlsxwirter is installed\n",
    "df_orders_final.to_excel(path_output+ \"\\\\orders_transformiert.xlsx\", engine=\"xlsxwriter\")"
   ],
   "metadata": {
    "collapsed": false,
    "pycharm": {
     "name": "#%%\n"
    }
   }
  },
  {
   "cell_type": "code",
   "execution_count": null,
   "outputs": [],
   "source": [],
   "metadata": {
    "collapsed": false,
    "pycharm": {
     "name": "#%%\n"
    }
   }
  },
  {
   "cell_type": "code",
   "execution_count": null,
   "outputs": [],
   "source": [],
   "metadata": {
    "collapsed": false,
    "pycharm": {
     "name": "#%%\n"
    }
   }
  }
 ],
 "metadata": {
  "kernelspec": {
   "display_name": "Python 3 (ipykernel)",
   "language": "python",
   "name": "python3"
  },
  "language_info": {
   "codemirror_mode": {
    "name": "ipython",
    "version": 3
   },
   "file_extension": ".py",
   "mimetype": "text/x-python",
   "name": "python",
   "nbconvert_exporter": "python",
   "pygments_lexer": "ipython3",
   "version": "3.10.2"
  }
 },
 "nbformat": 4,
 "nbformat_minor": 5
}